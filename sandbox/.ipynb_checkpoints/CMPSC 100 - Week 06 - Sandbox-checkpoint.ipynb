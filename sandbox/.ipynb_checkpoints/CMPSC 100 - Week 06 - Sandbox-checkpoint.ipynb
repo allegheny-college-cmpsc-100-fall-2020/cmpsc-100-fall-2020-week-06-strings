{
 "cells": [
  {
   "cell_type": "markdown",
   "metadata": {
    "deletable": false,
    "editable": false
   },
   "source": [
    "# CMPSC 100: `Week 06` Sandbox\n",
    "\n",
    "---\n",
    "\n",
    "In the computer science world, a \"sandbox\" is almost exactly what it is in the real world: a place to, effectively, \"play.\" \n",
    "\n",
    "## Usage\n",
    "\n",
    "First and foremost, this space is for *you*. \n",
    "\n",
    "Use this notebook to try out code presented in class or do self-guided exploration. Your instructor may reference this notebook and ask that you write some code in it to follow along with in-class exercises or live programming.\n",
    "\n",
    "I also encourage you to use this as a space to take notes as you participate in discussions or practice coding concepts on your own.\n",
    "\n",
    "### Reminders\n",
    "\n",
    "The following key combinations and shortcuts will speed your work in this notebook.\n",
    "\n",
    "#### With cursor in cell\n",
    "\n",
    "| Key(s) | Outcome |\n",
    "|:-|:-|\n",
    "| `Enter` | Adds a new line in the current cell |\n",
    "| `Shift` + `Enter` | Runs the current cell and moves to the first cell below |\n",
    "| `Ctrl` + `Enter` | Runs the current cell; cursor remains in cell |\n",
    "| `Alt` + `Enter` | Runs current cell and inserts new cell below ||\n",
    "\n",
    "#### With cell selected\n",
    "\n",
    "| Key(s) | Outcome |\n",
    "|:-|:-|\n",
    "| `A` | Add cell above current cell |\n",
    "| `B` | Add cell below current cell |\n",
    "| `D` | Delete current cell |\n",
    "| `Shift` + `M` | Merge current cell with below |\n",
    "| `M` | Changes current cell to Markdown format|\n",
    "| `Y` | Changes current cell to code format |\n",
    "\n",
    "\n",
    "## Helpful readings\n",
    "\n",
    "The readings below are meant to serve as references for you as you explore practical use of our course's platforms. As always, however, feel free to reach out to your instructors or post questions in our course [Slack](cmpsc-100-00-fa-2020.slack.com).\n",
    "\n",
    "### Using Jupyter notebooks\n",
    "\n",
    "For questions about using a Jupyter Notebook, our colleagues at Bryn Mawr created a [Jupyter Notebook User's Manual](https://jupyter.brynmawr.edu/services/public/dblank/Jupyter%20Notebook%20Users%20Manual.ipynb) which answers basic and advanced questions about the platform.\n",
    "\n",
    "### Markdown\n",
    "\n",
    "I strongly recommend reading the [Mastering Markdown](https://guides.github.com/features/mastering-markdown/) guide to serve as a Markdown reference."
   ]
  },
  {
   "cell_type": "markdown",
   "metadata": {},
   "source": [
    "## Sandbox"
   ]
  },
  {
   "cell_type": "code",
   "execution_count": 3,
   "metadata": {},
   "outputs": [],
   "source": [
    "message = \"Sally sells sea shells by the sea shore.\""
   ]
  },
  {
   "cell_type": "code",
   "execution_count": 4,
   "metadata": {},
   "outputs": [
    {
     "name": "stdout",
     "output_type": "stream",
     "text": [
      "83\n",
      "115\n"
     ]
    }
   ],
   "source": [
    "# any time we convert characters to ASCII code points (rly numbers) we are getting the \"ordinal\" value\n",
    "print(ord(\"S\"))\n",
    "print(ord(\"s\"))"
   ]
  },
  {
   "cell_type": "code",
   "execution_count": 5,
   "metadata": {},
   "outputs": [
    {
     "name": "stdout",
     "output_type": "stream",
     "text": [
      "S\n",
      "s\n"
     ]
    }
   ],
   "source": [
    "# any time we do the reverse, we use \"chr\"\n",
    "print(chr(83))\n",
    "print(chr(115))"
   ]
  },
  {
   "cell_type": "code",
   "execution_count": 9,
   "metadata": {},
   "outputs": [
    {
     "name": "stdout",
     "output_type": "stream",
     "text": [
      "40\n",
      "s sea shells by the \n"
     ]
    }
   ],
   "source": [
    "print(len(message)) # <-- we have a known, fixed length\n",
    "print(message[10:30])"
   ]
  },
  {
   "cell_type": "code",
   "execution_count": 10,
   "metadata": {},
   "outputs": [
    {
     "name": "stdout",
     "output_type": "stream",
     "text": [
      "SALLY SELLS SEA SHELLS BY THE SEA SHORE.\n"
     ]
    }
   ],
   "source": [
    "# methods?\n",
    "print(message.upper())"
   ]
  },
  {
   "cell_type": "code",
   "execution_count": 12,
   "metadata": {},
   "outputs": [
    {
     "name": "stdout",
     "output_type": "stream",
     "text": [
      "sally sells sea shells by the sea shore.\n"
     ]
    }
   ],
   "source": [
    "print(message.lower())"
   ]
  },
  {
   "cell_type": "code",
   "execution_count": 14,
   "metadata": {},
   "outputs": [
    {
     "name": "stdout",
     "output_type": "stream",
     "text": [
      "7\n",
      "1\n"
     ]
    }
   ],
   "source": [
    "print(message.count(\"s\"))\n",
    "print(message.count(\"S\"))"
   ]
  },
  {
   "cell_type": "code",
   "execution_count": 17,
   "metadata": {},
   "outputs": [
    {
     "name": "stdout",
     "output_type": "stream",
     "text": [
      "Martha sells sea shells by the sea shore.\n",
      "Sally sells sea shells by the sea shore.\n",
      "SALLY SELLS SEA SHELLS BY THE SEA SHORE.\n"
     ]
    }
   ],
   "source": [
    "# string are immutable\n",
    "print(message.replace(\"Sally\",\"Martha\"))\n",
    "print(message)\n",
    "message = message.upper()\n",
    "print(message)"
   ]
  },
  {
   "cell_type": "code",
   "execution_count": 18,
   "metadata": {},
   "outputs": [
    {
     "name": "stdin",
     "output_type": "stream",
     "text": [
      "What's yer name? The Professor\n"
     ]
    },
    {
     "name": "stdout",
     "output_type": "stream",
     "text": [
      "Oh, hello The Professor.\n"
     ]
    }
   ],
   "source": [
    "# f-strings\n",
    "name = input(\"What's yer name?\")\n",
    "print(f\"Oh, hello {name}.\")"
   ]
  },
  {
   "cell_type": "code",
   "execution_count": 19,
   "metadata": {},
   "outputs": [],
   "source": [
    "poem = open(\"frost_the_road_not_taken.txt\",\"r\")"
   ]
  },
  {
   "cell_type": "code",
   "execution_count": 20,
   "metadata": {},
   "outputs": [
    {
     "data": {
      "text/plain": [
       "'Two roads diverged in a yellow wood,\\nAnd sorry I could not travel both\\nAnd be one traveler, long I stood\\nAnd looked down one as far as I could\\nTo where it bent in the undergrowth;\\n\\nThen took the other, as just as fair,\\nAnd having perhaps the better claim,\\nBecause it was grassy and wanted wear;\\nThough as for that the passing there\\nHad worn them really about the same,\\n\\nAnd both that morning equally lay\\nIn leaves no step had trodden black.\\nOh, I kept the first for another day!\\nYet knowing how way leads on to way,\\nI doubted if I should ever come back.\\n\\nI shall be telling this with a sigh\\nSomewhere ages and ages hence:\\nTwo roads diverged in a wood, and I—\\nI took the one less traveled by,\\nAnd that has made all the difference.'"
      ]
     },
     "execution_count": 20,
     "metadata": {},
     "output_type": "execute_result"
    }
   ],
   "source": [
    "text = poem.read()\n",
    "text"
   ]
  },
  {
   "cell_type": "code",
   "execution_count": 21,
   "metadata": {},
   "outputs": [
    {
     "name": "stdout",
     "output_type": "stream",
     "text": [
      "Two roads diverged in a yellow wood,\n",
      "And sorry I could not travel both\n",
      "And be one traveler, long I stood\n",
      "And looked down one as far as I could\n",
      "To where it bent in the undergrowth;\n",
      "\n",
      "Then took the other, as just as fair,\n",
      "And having perhaps the better claim,\n",
      "Because it was grassy and wanted wear;\n",
      "Though as for that the passing there\n",
      "Had worn them really about the same,\n",
      "\n",
      "And both that morning equally lay\n",
      "In leaves no step had trodden black.\n",
      "Oh, I kept the first for another day!\n",
      "Yet knowing how way leads on to way,\n",
      "I doubted if I should ever come back.\n",
      "\n",
      "I shall be telling this with a sigh\n",
      "Somewhere ages and ages hence:\n",
      "Two roads diverged in a wood, and I—\n",
      "I took the one less traveled by,\n",
      "And that has made all the difference.\n"
     ]
    }
   ],
   "source": [
    "print(text)"
   ]
  },
  {
   "cell_type": "code",
   "execution_count": 26,
   "metadata": {},
   "outputs": [],
   "source": [
    "poem = open(\"frost_the_road_not_taken.txt\",\"r\")\n",
    "text = poem.readlines()"
   ]
  },
  {
   "cell_type": "code",
   "execution_count": 28,
   "metadata": {},
   "outputs": [
    {
     "name": "stdout",
     "output_type": "stream",
     "text": [
      "['Two roads diverged in a yellow wood,\\n', 'And sorry I could not travel both\\n', 'And be one traveler, long I stood\\n', 'And looked down one as far as I could\\n', 'To where it bent in the undergrowth;\\n', '\\n', 'Then took the other, as just as fair,\\n', 'And having perhaps the better claim,\\n', 'Because it was grassy and wanted wear;\\n', 'Though as for that the passing there\\n', 'Had worn them really about the same,\\n', '\\n', 'And both that morning equally lay\\n', 'In leaves no step had trodden black.\\n', 'Oh, I kept the first for another day!\\n', 'Yet knowing how way leads on to way,\\n', 'I doubted if I should ever come back.\\n', '\\n', 'I shall be telling this with a sigh\\n', 'Somewhere ages and ages hence:\\n', 'Two roads diverged in a wood, and I—\\n', 'I took the one less traveled by,\\n', 'And that has made all the difference.']\n",
      "Two roads diverged in a yellow wood,\n",
      "\n",
      "And sorry I could not travel both\n",
      "\n",
      "And be one traveler, long I stood\n",
      "\n",
      "And looked down one as far as I could\n",
      "\n",
      "To where it bent in the undergrowth;\n",
      "\n",
      "\n",
      "\n",
      "Then took the other, as just as fair,\n",
      "\n",
      "And having perhaps the better claim,\n",
      "\n",
      "Because it was grassy and wanted wear;\n",
      "\n",
      "Though as for that the passing there\n",
      "\n",
      "Had worn them really about the same,\n",
      "\n",
      "\n",
      "\n",
      "And both that morning equally lay\n",
      "\n",
      "In leaves no step had trodden black.\n",
      "\n",
      "Oh, I kept the first for another day!\n",
      "\n",
      "Yet knowing how way leads on to way,\n",
      "\n",
      "I doubted if I should ever come back.\n",
      "\n",
      "\n",
      "\n",
      "I shall be telling this with a sigh\n",
      "\n",
      "Somewhere ages and ages hence:\n",
      "\n",
      "Two roads diverged in a wood, and I—\n",
      "\n",
      "I took the one less traveled by,\n",
      "\n",
      "And that has made all the difference.\n"
     ]
    }
   ],
   "source": [
    "print(text)\n",
    "for line in text:\n",
    "    print(line)"
   ]
  },
  {
   "cell_type": "code",
   "execution_count": 10,
   "metadata": {},
   "outputs": [
    {
     "name": "stdout",
     "output_type": "stream",
     "text": [
      "88 108 105 36 71 118 115 103 115 104 109 112 105 14 91 105 114 120 36 120 115 36 120 108 105 36 104 105 114 120 109 119 120 14 69 114 104 36 119 101 120 36 104 115 123 114 36 109 114 36 120 108 105 36 103 108 101 109 118 48 14 69 114 104 36 120 108 105 36 104 105 114 120 109 119 120 36 119 101 109 104 48 36 38 82 115 123 36 120 105 112 112 36 113 105 48 36 119 109 118 48 14 91 108 125 36 104 115 105 119 36 109 120 36 108 121 118 120 36 101 114 104 36 123 108 105 118 105 67 38 14 69 114 104 36 120 108 105 36 71 118 115 103 115 104 109 112 105 36 119 101 109 104 48 36 38 77 43 112 112 36 120 105 112 112 36 125 115 121 36 120 108 105 36 120 118 121 120 108 48 14 77 36 108 101 122 105 36 101 36 120 105 118 118 109 102 112 105 36 101 103 108 105 36 109 114 36 113 125 36 120 115 115 120 108 48 38 14 69 114 104 36 108 105 36 115 116 105 114 105 104 36 108 109 119 36 110 101 123 119 36 119 115 36 123 109 104 105 48 36 119 115 36 123 109 104 105 48 14 88 108 101 120 36 120 108 105 36 104 105 114 120 109 119 120 48 36 108 105 36 103 112 109 113 102 105 104 36 118 109 107 108 120 36 109 114 119 109 104 105 48 14 69 114 104 36 120 108 105 36 104 105 114 120 109 119 120 36 112 101 121 107 108 105 104 48 36 38 83 108 36 109 119 114 43 120 36 120 108 109 119 36 106 121 114 67 38 14 69 119 36 108 105 36 116 121 112 112 105 104 36 120 108 105 36 120 105 105 120 108 36 115 121 120 48 36 115 114 105 36 102 125 36 115 114 105 50 14 69 114 104 36 120 108 105 36 71 118 115 103 115 104 109 112 105 36 103 118 109 105 104 48 36 38 93 115 121 43 118 105 36 108 121 118 120 109 114 107 36 113 105 36 119 115 37 14 84 112 105 101 119 105 36 116 121 120 36 104 115 123 114 36 125 115 121 118 36 116 112 109 105 118 119 36 101 114 104 36 112 105 120 36 113 105 36 107 115 50 38 14 70 121 120 36 120 108 105 36 104 105 114 120 109 119 120 36 110 121 119 120 36 112 101 121 107 108 105 104 36 123 109 120 108 36 101 36 76 115 36 76 115 36 76 115 48 14 69 114 104 36 108 105 36 119 101 109 104 48 36 38 77 36 119 120 109 112 112 36 108 101 122 105 36 120 123 105 112 122 105 36 120 115 36 107 115 8216 14 83 115 116 119 48 36 120 108 101 120 43 119 36 120 108 105 36 123 118 115 114 107 36 115 114 105 48 36 77 36 103 115 114 106 105 119 119 48 14 70 121 120 36 123 108 101 120 43 119 36 115 114 105 36 103 118 115 103 115 104 109 112 105 43 119 36 120 115 115 120 108 48 36 113 115 118 105 36 115 118 36 112 105 119 119 67 38 14 88 108 105 114 36 119 121 104 104 105 114 112 125 48 36 120 108 105 36 110 101 123 119 36 123 105 114 120 36 87 82 69 84 48 14 69 114 104 36 120 108 105 36 104 105 114 120 109 119 120 36 123 101 119 36 107 115 114 105 48 36 118 109 107 108 120 36 115 106 106 36 120 108 105 36 113 101 116 48 14 69 114 104 36 123 108 105 118 105 36 108 105 36 123 105 114 120 36 115 114 105 36 103 115 121 112 104 36 115 114 112 125 36 107 121 105 119 119 50 50 50 14 88 115 36 82 115 118 120 108 36 115 118 36 87 115 121 120 108 36 115 118 36 73 101 119 120 36 115 118 36 91 105 119 120 50 50 50 14 76 105 36 112 105 106 120 36 114 115 36 106 115 118 123 101 118 104 109 114 107 36 101 104 104 118 105 119 119 50 14 70 121 120 36 123 108 101 120 43 119 36 115 114 105 36 104 105 114 120 109 119 120 48 36 113 115 118 105 36 115 118 36 112 105 119 119 67\n",
      "['X', 'l', 'i', '$', 'G', 'v', 's', 'g', 's', 'h', 'm', 'p', 'i', '\\x0e', '[', 'i', 'r', 'x', '$', 'x', 's', '$', 'x', 'l', 'i', '$', 'h', 'i', 'r', 'x', 'm', 'w', 'x', '\\x0e', 'E', 'r', 'h', '$', 'w', 'e', 'x', '$', 'h', 's', '{', 'r', '$', 'm', 'r', '$', 'x', 'l', 'i', '$', 'g', 'l', 'e', 'm', 'v', '0', '\\x0e', 'E', 'r', 'h', '$', 'x', 'l', 'i', '$', 'h', 'i', 'r', 'x', 'm', 'w', 'x', '$', 'w', 'e', 'm', 'h', '0', '$', '&', 'R', 's', '{', '$', 'x', 'i', 'p', 'p', '$', 'q', 'i', '0', '$', 'w', 'm', 'v', '0', '\\x0e', '[', 'l', '}', '$', 'h', 's', 'i', 'w', '$', 'm', 'x', '$', 'l', 'y', 'v', 'x', '$', 'e', 'r', 'h', '$', '{', 'l', 'i', 'v', 'i', 'C', '&', '\\x0e', 'E', 'r', 'h', '$', 'x', 'l', 'i', '$', 'G', 'v', 's', 'g', 's', 'h', 'm', 'p', 'i', '$', 'w', 'e', 'm', 'h', '0', '$', '&', 'M', '+', 'p', 'p', '$', 'x', 'i', 'p', 'p', '$', '}', 's', 'y', '$', 'x', 'l', 'i', '$', 'x', 'v', 'y', 'x', 'l', '0', '\\x0e', 'M', '$', 'l', 'e', 'z', 'i', '$', 'e', '$', 'x', 'i', 'v', 'v', 'm', 'f', 'p', 'i', '$', 'e', 'g', 'l', 'i', '$', 'm', 'r', '$', 'q', '}', '$', 'x', 's', 's', 'x', 'l', '0', '&', '\\x0e', 'E', 'r', 'h', '$', 'l', 'i', '$', 's', 't', 'i', 'r', 'i', 'h', '$', 'l', 'm', 'w', '$', 'n', 'e', '{', 'w', '$', 'w', 's', '$', '{', 'm', 'h', 'i', '0', '$', 'w', 's', '$', '{', 'm', 'h', 'i', '0', '\\x0e', 'X', 'l', 'e', 'x', '$', 'x', 'l', 'i', '$', 'h', 'i', 'r', 'x', 'm', 'w', 'x', '0', '$', 'l', 'i', '$', 'g', 'p', 'm', 'q', 'f', 'i', 'h', '$', 'v', 'm', 'k', 'l', 'x', '$', 'm', 'r', 'w', 'm', 'h', 'i', '0', '\\x0e', 'E', 'r', 'h', '$', 'x', 'l', 'i', '$', 'h', 'i', 'r', 'x', 'm', 'w', 'x', '$', 'p', 'e', 'y', 'k', 'l', 'i', 'h', '0', '$', '&', 'S', 'l', '$', 'm', 'w', 'r', '+', 'x', '$', 'x', 'l', 'm', 'w', '$', 'j', 'y', 'r', 'C', '&', '\\x0e', 'E', 'w', '$', 'l', 'i', '$', 't', 'y', 'p', 'p', 'i', 'h', '$', 'x', 'l', 'i', '$', 'x', 'i', 'i', 'x', 'l', '$', 's', 'y', 'x', '0', '$', 's', 'r', 'i', '$', 'f', '}', '$', 's', 'r', 'i', '2', '\\x0e', 'E', 'r', 'h', '$', 'x', 'l', 'i', '$', 'G', 'v', 's', 'g', 's', 'h', 'm', 'p', 'i', '$', 'g', 'v', 'm', 'i', 'h', '0', '$', '&', ']', 's', 'y', '+', 'v', 'i', '$', 'l', 'y', 'v', 'x', 'm', 'r', 'k', '$', 'q', 'i', '$', 'w', 's', '%', '\\x0e', 'T', 'p', 'i', 'e', 'w', 'i', '$', 't', 'y', 'x', '$', 'h', 's', '{', 'r', '$', '}', 's', 'y', 'v', '$', 't', 'p', 'm', 'i', 'v', 'w', '$', 'e', 'r', 'h', '$', 'p', 'i', 'x', '$', 'q', 'i', '$', 'k', 's', '2', '&', '\\x0e', 'F', 'y', 'x', '$', 'x', 'l', 'i', '$', 'h', 'i', 'r', 'x', 'm', 'w', 'x', '$', 'n', 'y', 'w', 'x', '$', 'p', 'e', 'y', 'k', 'l', 'i', 'h', '$', '{', 'm', 'x', 'l', '$', 'e', '$', 'L', 's', '$', 'L', 's', '$', 'L', 's', '0', '\\x0e', 'E', 'r', 'h', '$', 'l', 'i', '$', 'w', 'e', 'm', 'h', '0', '$', '&', 'M', '$', 'w', 'x', 'm', 'p', 'p', '$', 'l', 'e', 'z', 'i', '$', 'x', '{', 'i', 'p', 'z', 'i', '$', 'x', 's', '$', 'k', 's', '‘', '\\x0e', 'S', 's', 't', 'w', '0', '$', 'x', 'l', 'e', 'x', '+', 'w', '$', 'x', 'l', 'i', '$', '{', 'v', 's', 'r', 'k', '$', 's', 'r', 'i', '0', '$', 'M', '$', 'g', 's', 'r', 'j', 'i', 'w', 'w', '0', '\\x0e', 'F', 'y', 'x', '$', '{', 'l', 'e', 'x', '+', 'w', '$', 's', 'r', 'i', '$', 'g', 'v', 's', 'g', 's', 'h', 'm', 'p', 'i', '+', 'w', '$', 'x', 's', 's', 'x', 'l', '0', '$', 'q', 's', 'v', 'i', '$', 's', 'v', '$', 'p', 'i', 'w', 'w', 'C', '&', '\\x0e', 'X', 'l', 'i', 'r', '$', 'w', 'y', 'h', 'h', 'i', 'r', 'p', '}', '0', '$', 'x', 'l', 'i', '$', 'n', 'e', '{', 'w', '$', '{', 'i', 'r', 'x', '$', 'W', 'R', 'E', 'T', '0', '\\x0e', 'E', 'r', 'h', '$', 'x', 'l', 'i', '$', 'h', 'i', 'r', 'x', 'm', 'w', 'x', '$', '{', 'e', 'w', '$', 'k', 's', 'r', 'i', '0', '$', 'v', 'm', 'k', 'l', 'x', '$', 's', 'j', 'j', '$', 'x', 'l', 'i', '$', 'q', 'e', 't', '0', '\\x0e', 'E', 'r', 'h', '$', '{', 'l', 'i', 'v', 'i', '$', 'l', 'i', '$', '{', 'i', 'r', 'x', '$', 's', 'r', 'i', '$', 'g', 's', 'y', 'p', 'h', '$', 's', 'r', 'p', '}', '$', 'k', 'y', 'i', 'w', 'w', '2', '2', '2', '\\x0e', 'X', 's', '$', 'R', 's', 'v', 'x', 'l', '$', 's', 'v', '$', 'W', 's', 'y', 'x', 'l', '$', 's', 'v', '$', 'I', 'e', 'w', 'x', '$', 's', 'v', '$', '[', 'i', 'w', 'x', '2', '2', '2', '\\x0e', 'L', 'i', '$', 'p', 'i', 'j', 'x', '$', 'r', 's', '$', 'j', 's', 'v', '{', 'e', 'v', 'h', 'm', 'r', 'k', '$', 'e', 'h', 'h', 'v', 'i', 'w', 'w', '2', '\\x0e', 'F', 'y', 'x', '$', '{', 'l', 'e', 'x', '+', 'w', '$', 's', 'r', 'i', '$', 'h', 'i', 'r', 'x', 'm', 'w', 'x', '0', '$', 'q', 's', 'v', 'i', '$', 's', 'v', '$', 'p', 'i', 'w', 'w', 'C']\n"
     ]
    }
   ],
   "source": [
    "# TODO: Read lines\n",
    "# TODO: Open the file\n",
    "open_message = open(\"../lab/coded_message.txt\", \"r\")\n",
    "\n",
    "read_message = open_message.read()\n",
    "print(read_message)\n",
    "# TODO: Iterate over the file's contents\n",
    "letters = []\n",
    "set_numbers = read_message.split()\n",
    "#print(set_numbers)\n",
    "for numbers in set_numbers:\n",
    "    all_numbers = int(numbers)\n",
    "    coded_letters = chr(all_numbers)\n",
    "    letters.append(coded_letters)\n",
    "    #print(chr(all_numbers))\n",
    "\"\".join(letters)\n",
    "print(letters)"
   ]
  },
  {
   "cell_type": "code",
   "execution_count": null,
   "metadata": {},
   "outputs": [],
   "source": []
  }
 ],
 "metadata": {
  "celltoolbar": "Raw Cell Format",
  "kernelspec": {
   "display_name": "Python 3",
   "language": "python",
   "name": "python3"
  },
  "language_info": {
   "codemirror_mode": {
    "name": "ipython",
    "version": 3
   },
   "file_extension": ".py",
   "mimetype": "text/x-python",
   "name": "python",
   "nbconvert_exporter": "python",
   "pygments_lexer": "ipython3",
   "version": "3.8.5"
  }
 },
 "nbformat": 4,
 "nbformat_minor": 4
}
